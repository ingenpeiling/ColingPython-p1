{
 "cells": [
  {
   "cell_type": "code",
   "execution_count": null,
   "metadata": {},
   "outputs": [],
   "source": [
    "# то, что успела сделать: первые шесть пунктов.\n",
    "# пока трудности с извлечением текста с lib.ru.\n",
    "# не поняла, каким именно должен быть частотный словарь, здесь он\n",
    "# довольно наивный, без лемматизации, порядок следования слов - \n",
    "# тот же, что в оригинальном тексте."
   ]
  },
  {
   "cell_type": "code",
   "execution_count": 103,
   "metadata": {},
   "outputs": [],
   "source": [
    "import nltk\n",
    "import pymorphy2\n",
    "import json\n",
    "import csv\n",
    "from nltk.probability import FreqDist\n",
    "from bs4 import BeautifulSoup\n",
    "from urllib.request import urlopen"
   ]
  },
  {
   "cell_type": "code",
   "execution_count": 97,
   "metadata": {},
   "outputs": [],
   "source": [
    "# открываем файл, сохраняем текст в raw_text\n",
    "with open ('dom.txt', encoding = \"utf-8\") as file:\n",
    "    raw_text = file.read()\n",
    "    \n",
    "# переводим текст в нижний регистр\n",
    "text = raw_text.lower()\n",
    "\n",
    "# убираем знаки препинания, сохраняя дефисы внутри слов\n",
    "for char in text:\n",
    "    if not char.isalpha() and not char == \" \" and not char in \"0123456789\" and not (char == \"-\" and text[text.index(char) - 1] != \" \"):\n",
    "        text = text.replace(char, \" \")\n",
    "        \n",
    "# переходим к созданию частотного словаря\n",
    "# сначала делим текст на токены (слова)\n",
    "tokens = nltk.word_tokenize(text)\n",
    "\n",
    "# создаем частотный словарь\n",
    "# записываем его в csv файл\n",
    "fdist = FreqDist(tokens)\n",
    "\n",
    "with open('data.csv', 'w') as csvfile: \n",
    "    writer = csv.writer(csvfile)\n",
    "    for key, value in fdist.items():\n",
    "        writer.writerow([key, value])\n",
    "        \n",
    "# лемматизация текста с помощью pymorphy\n",
    "lemmas = \"\"\n",
    "morph = pymorphy2.MorphAnalyzer()\n",
    "for token in tokens:\n",
    "    p = morph.parse(token)[0]\n",
    "    lemmas = lemmas + p.normal_form + \" \"\n",
    "    \n",
    "# находим леммы с двумя буквами о\n",
    "with_o = []\n",
    "lemmas = nltk.word_tokenize(lemmas)\n",
    "for lemma in lemmas:\n",
    "    if lemma.count('о') == 2:\n",
    "        with_o.append(lemma)\n",
    "\n"
   ]
  },
  {
   "cell_type": "code",
   "execution_count": null,
   "metadata": {},
   "outputs": [],
   "source": []
  }
 ],
 "metadata": {
  "kernelspec": {
   "display_name": "Python 3",
   "language": "python",
   "name": "python3"
  },
  "language_info": {
   "codemirror_mode": {
    "name": "ipython",
    "version": 3
   },
   "file_extension": ".py",
   "mimetype": "text/x-python",
   "name": "python",
   "nbconvert_exporter": "python",
   "pygments_lexer": "ipython3",
   "version": "3.8.3"
  }
 },
 "nbformat": 4,
 "nbformat_minor": 4
}
